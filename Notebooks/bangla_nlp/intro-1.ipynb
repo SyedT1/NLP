{
  "nbformat": 4,
  "nbformat_minor": 0,
  "metadata": {
    "colab": {
      "provenance": [],
      "authorship_tag": "ABX9TyNzJ+26U3DcbWRih/k/Qp6x",
      "include_colab_link": true
    },
    "kernelspec": {
      "name": "python3",
      "display_name": "Python 3"
    },
    "language_info": {
      "name": "python"
    }
  },
  "cells": [
    {
      "cell_type": "markdown",
      "metadata": {
        "id": "view-in-github",
        "colab_type": "text"
      },
      "source": [
        "<a href=\"https://colab.research.google.com/github/SyedT1/NLP/blob/main/Notebooks/bangla_nlp/intro-1.ipynb\" target=\"_parent\"><img src=\"https://colab.research.google.com/assets/colab-badge.svg\" alt=\"Open In Colab\"/></a>"
      ]
    },
    {
      "cell_type": "code",
      "execution_count": 6,
      "metadata": {
        "colab": {
          "base_uri": "https://localhost:8080/"
        },
        "id": "rTJxZQm9mId2",
        "outputId": "5b98769e-d179-4f70-9ae3-8f31f3c1c006"
      },
      "outputs": [
        {
          "output_type": "stream",
          "name": "stdout",
          "text": [
            "Looking in indexes: https://pypi.org/simple, https://us-python.pkg.dev/colab-wheels/public/simple/\n",
            "Requirement already satisfied: bangla-stemmer in /usr/local/lib/python3.7/dist-packages (1.0)\n"
          ]
        }
      ],
      "source": [
        "!pip install bangla-stemmer"
      ]
    },
    {
      "cell_type": "code",
      "source": [
        "from bangla_stemmer.stemmer import stemmer\n",
        "wordlist = ['মনোমুগ্ধকর', 'কথার', 'নামাবার']\n",
        "stmr = stemmer.BanglaStemmer()\n",
        "for word in wordlist:\n",
        "  stm = stmr.stem(word)\n",
        "  print(stm)"
      ],
      "metadata": {
        "colab": {
          "base_uri": "https://localhost:8080/"
        },
        "id": "D1vwDyvfmlnF",
        "outputId": "7d502c8b-6bf4-4656-c535-32b9ca7d2569"
      },
      "execution_count": 7,
      "outputs": [
        {
          "output_type": "stream",
          "name": "stdout",
          "text": [
            "মনোমুগ্ধকর\n",
            "applied fourth rules..\n",
            "কথ\n",
            "applied fourth rules..\n",
            "নামা\n"
          ]
        }
      ]
    },
    {
      "cell_type": "code",
      "source": [
        "!pip install BnLemma"
      ],
      "metadata": {
        "colab": {
          "base_uri": "https://localhost:8080/"
        },
        "id": "UEhTq_CLosaf",
        "outputId": "dc365e72-d7a8-4dbe-e20f-9deb3222981e"
      },
      "execution_count": 8,
      "outputs": [
        {
          "output_type": "stream",
          "name": "stdout",
          "text": [
            "Looking in indexes: https://pypi.org/simple, https://us-python.pkg.dev/colab-wheels/public/simple/\n",
            "Requirement already satisfied: BnLemma in /usr/local/lib/python3.7/dist-packages (2.1)\n"
          ]
        }
      ]
    },
    {
      "cell_type": "code",
      "source": [
        "import BnLemma as lm\n",
        "s = \"পদার্থবিজ্ঞান\"\n",
        "bl = lm.Lemmatizer()\n",
        "s = bl.lemma(s)\n",
        "print(s)"
      ],
      "metadata": {
        "colab": {
          "base_uri": "https://localhost:8080/"
        },
        "id": "KrLPAeeooxAI",
        "outputId": "d7ae087a-204a-44a2-b309-d9d32c8d5882"
      },
      "execution_count": 9,
      "outputs": [
        {
          "output_type": "stream",
          "name": "stdout",
          "text": [
            "বিজ্ঞান\n"
          ]
        }
      ]
    },
    {
      "cell_type": "code",
      "source": [],
      "metadata": {
        "id": "m7Mu034WpiUe"
      },
      "execution_count": null,
      "outputs": []
    }
  ]
}