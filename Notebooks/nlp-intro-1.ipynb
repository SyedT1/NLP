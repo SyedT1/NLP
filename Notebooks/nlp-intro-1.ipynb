{
  "nbformat": 4,
  "nbformat_minor": 0,
  "metadata": {
    "colab": {
      "provenance": [],
      "authorship_tag": "ABX9TyMxiZeT80hsxy7jZZv6/FyK",
      "include_colab_link": true
    },
    "kernelspec": {
      "name": "python3",
      "display_name": "Python 3"
    },
    "language_info": {
      "name": "python"
    }
  },
  "cells": [
    {
      "cell_type": "markdown",
      "metadata": {
        "id": "view-in-github",
        "colab_type": "text"
      },
      "source": [
        "<a href=\"https://colab.research.google.com/github/SyedT1/NLP/blob/main/Notebooks/nlp-intro-1.ipynb\" target=\"_parent\"><img src=\"https://colab.research.google.com/assets/colab-badge.svg\" alt=\"Open In Colab\"/></a>"
      ]
    },
    {
      "cell_type": "code",
      "execution_count": null,
      "metadata": {
        "colab": {
          "base_uri": "https://localhost:8080/"
        },
        "id": "rTJxZQm9mId2",
        "outputId": "d403f552-c900-4b84-e8a2-b8601d2ed1cf"
      },
      "outputs": [
        {
          "output_type": "stream",
          "name": "stdout",
          "text": [
            "Looking in indexes: https://pypi.org/simple, https://us-python.pkg.dev/colab-wheels/public/simple/\n",
            "Collecting bangla-stemmer\n",
            "  Downloading bangla_stemmer-1.0-py3-none-any.whl (9.1 kB)\n",
            "Installing collected packages: bangla-stemmer\n",
            "Successfully installed bangla-stemmer-1.0\n"
          ]
        }
      ],
      "source": [
        "!pip install bangla-stemmer"
      ]
    },
    {
      "cell_type": "code",
      "source": [
        "from bangla_stemmer.stemmer import stemmer\n",
        "wordlist = ['মনোমুগ্ধকর', 'কথার', 'নামাবার']\n",
        "stmr = stemmer.BanglaStemmer()\n",
        "stm = stmr.stem(wordlist[1])\n",
        "print(stm)"
      ],
      "metadata": {
        "colab": {
          "base_uri": "https://localhost:8080/"
        },
        "id": "D1vwDyvfmlnF",
        "outputId": "6e4f2b78-09d9-4f86-94a6-152917bc43cd"
      },
      "execution_count": null,
      "outputs": [
        {
          "output_type": "stream",
          "name": "stdout",
          "text": [
            "applied fourth rules..\n",
            "কথ\n"
          ]
        }
      ]
    },
    {
      "cell_type": "code",
      "source": [
        "!pip install BnLemma"
      ],
      "metadata": {
        "colab": {
          "base_uri": "https://localhost:8080/"
        },
        "id": "UEhTq_CLosaf",
        "outputId": "f8f38485-4648-4a2c-e1e4-e9f999e4cfa2"
      },
      "execution_count": null,
      "outputs": [
        {
          "output_type": "stream",
          "name": "stdout",
          "text": [
            "Looking in indexes: https://pypi.org/simple, https://us-python.pkg.dev/colab-wheels/public/simple/\n",
            "Collecting BnLemma\n",
            "  Downloading BnLemma-2.1-py3-none-any.whl (57 kB)\n",
            "\u001b[K     |████████████████████████████████| 57 kB 2.4 MB/s \n",
            "\u001b[?25hInstalling collected packages: BnLemma\n",
            "Successfully installed BnLemma-2.1\n"
          ]
        }
      ]
    },
    {
      "cell_type": "code",
      "source": [
        "import BnLemma as lm\n",
        "s = \"পদার্থবিজ্ঞান\"\n",
        "bl = lm.Lemmatizer()\n",
        "s = bl.lemma(s)\n",
        "print(s)"
      ],
      "metadata": {
        "colab": {
          "base_uri": "https://localhost:8080/"
        },
        "id": "KrLPAeeooxAI",
        "outputId": "ed2b6297-c057-4dc8-db9f-be0258aff89e"
      },
      "execution_count": null,
      "outputs": [
        {
          "output_type": "stream",
          "name": "stdout",
          "text": [
            "বিজ্ঞান\n"
          ]
        }
      ]
    },
    {
      "cell_type": "code",
      "source": [],
      "metadata": {
        "id": "m7Mu034WpiUe"
      },
      "execution_count": null,
      "outputs": []
    }
  ]
}